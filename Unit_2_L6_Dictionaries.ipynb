{
  "nbformat": 4,
  "nbformat_minor": 0,
  "metadata": {
    "colab": {
      "name": "Unit 2 L6 Dictionaries.ipynb",
      "provenance": [],
      "authorship_tag": "ABX9TyO7U61UMDOsvoD6N0PNdW1i",
      "include_colab_link": true
    },
    "kernelspec": {
      "name": "python3",
      "display_name": "Python 3"
    }
  },
  "cells": [
    {
      "cell_type": "markdown",
      "metadata": {
        "id": "view-in-github",
        "colab_type": "text"
      },
      "source": [
        "<a href=\"https://colab.research.google.com/github/guerrerol/Micro-Credential-Work/blob/main/Unit_2_L6_Dictionaries.ipynb\" target=\"_parent\"><img src=\"https://colab.research.google.com/assets/colab-badge.svg\" alt=\"Open In Colab\"/></a>"
      ]
    },
    {
      "cell_type": "markdown",
      "metadata": {
        "id": "dzK7VWG4U2bJ"
      },
      "source": [
        "1. Create a simple dictionary that stores 2 variables, for example: first and last name.\r\n",
        "\r\n"
      ]
    },
    {
      "cell_type": "code",
      "metadata": {
        "id": "-Lr1P2D8VNaj"
      },
      "source": [
        "names = {'Luzmarie': 'Guerrero','Tyrell': 'Wellick','Frank': 'Iero'}"
      ],
      "execution_count": 7,
      "outputs": []
    },
    {
      "cell_type": "markdown",
      "metadata": {
        "id": "V-oU2wwPU6gd"
      },
      "source": [
        "2. Print out those variables stored in your previous dictionary.\r\n"
      ]
    },
    {
      "cell_type": "code",
      "metadata": {
        "colab": {
          "base_uri": "https://localhost:8080/"
        },
        "id": "3LP63sLhXnTv",
        "outputId": "db42b504-e670-49a8-ecb0-812e9a57acc7"
      },
      "source": [
        "for k,v in names.items(): # remember to include .items() if you're iterating by k,v\r\n",
        "  print('First Name: ' + k + '\\tLast Name: ' + v)"
      ],
      "execution_count": 9,
      "outputs": [
        {
          "output_type": "stream",
          "text": [
            "First Name: Luzmarie\tLast Name: Guerrero\n",
            "First Name: Tyrell\tLast Name: Wellick\n",
            "First Name: Frank\tLast Name: Iero\n"
          ],
          "name": "stdout"
        }
      ]
    },
    {
      "cell_type": "markdown",
      "metadata": {
        "id": "emyGMFoaU8N3"
      },
      "source": [
        "\r\n",
        "3. Add a message to those variables on printing: for example: “Hello, firstname lastname!”\r\n"
      ]
    },
    {
      "cell_type": "code",
      "metadata": {
        "colab": {
          "base_uri": "https://localhost:8080/"
        },
        "id": "psHXGHBJYcVv",
        "outputId": "c5f5b2c3-4fd0-44e8-c203-be58f71acfb7"
      },
      "source": [
        "for k,v in names.items(): # remember to include .items() if you're iterating by k,v\r\n",
        "  print('Hello, ' + k + ' ' + v + '!')"
      ],
      "execution_count": 11,
      "outputs": [
        {
          "output_type": "stream",
          "text": [
            "Hello, Luzmarie Guerrero!\n",
            "Hello, Tyrell Wellick!\n",
            "Hello, Frank Iero!\n"
          ],
          "name": "stdout"
        }
      ]
    },
    {
      "cell_type": "markdown",
      "metadata": {
        "id": "o3bQvdGhU_9x"
      },
      "source": [
        "\r\n",
        "4. Create a dictionary that holds 2 key: value pairs:\r\n",
        "a. Look through your dictionary and print each pair,\r\n"
      ]
    },
    {
      "cell_type": "code",
      "metadata": {
        "colab": {
          "base_uri": "https://localhost:8080/"
        },
        "id": "44vWvq1CYuy-",
        "outputId": "8ed3b6b3-291c-4a9c-cbf2-eee594ac8a4e"
      },
      "source": [
        "capitals = {'The United States of America': 'Washington DC','China': 'Beijing','Canada': 'Ottawa','Korea': 'Seoul','Brazil': 'Brasilia'}\r\n",
        "\r\n",
        "for k in capitals.keys():\r\n",
        "  print(\"The capital of \" + k + ' is ' + capitals[k])"
      ],
      "execution_count": 13,
      "outputs": [
        {
          "output_type": "stream",
          "text": [
            "The capital of The United States of America is Washington DC\n",
            "The capital of China is Beijing\n",
            "The capital of Canada is Ottawa\n",
            "The capital of Korea is Seoul\n",
            "The capital of Brazil is Brasilia\n"
          ],
          "name": "stdout"
        }
      ]
    },
    {
      "cell_type": "markdown",
      "metadata": {
        "id": "FrzcFtYlVDu1"
      },
      "source": [
        "\r\n",
        "5. Create a nested dictionary containing three dictionaries – these dictionaries could be\r\n",
        "anything (favorite pets, travel locations, etc.)\r\n",
        "a. Loop through the dictionaries and print a message for each."
      ]
    },
    {
      "cell_type": "code",
      "metadata": {
        "colab": {
          "base_uri": "https://localhost:8080/"
        },
        "id": "y-jKwWTsfJdi",
        "outputId": "cdf2858e-0a1c-4d65-e186-6a2c929e57c2"
      },
      "source": [
        "profiles = {\r\n",
        "    'Elliot': {'last name': 'Alderson', 'favorite things': {\r\n",
        "                  'band': 'REM', 'animal': 'dog', 'color': 'black' }\r\n",
        "              },\r\n",
        "    'Rory':   {'last name': 'Hernandez', 'favorite things': {\r\n",
        "                  'band': 'Hall & Oates', 'animal': 'raccoon', 'color': 'orange' }\r\n",
        "              },\r\n",
        "    'Molly':  {'last name': 'Garner', 'favorite things': {\r\n",
        "                  'band': 'Sufjan Stevens', 'animal': 'goat', 'color': 'yellow' }\r\n",
        "              }\r\n",
        "           }\r\n",
        "      \r\n",
        "for profile in profiles.keys():\r\n",
        "  print( profile + \"'s last name is \" + profiles[profile]['last name'] + '.\\n\\tTheir favorite artist is ' + profiles[profile]['favorite things']['band'] +\r\n",
        "         ', \\n\\tTheir favorite animal is the ' + profiles[profile]['favorite things']['animal'] + ', \\n\\tAnd their favorie color is ' +\r\n",
        "          profiles[profile]['favorite things']['color'] + '\\n')\r\n"
      ],
      "execution_count": 31,
      "outputs": [
        {
          "output_type": "stream",
          "text": [
            "Elliot's last name is Alderson.\n",
            "\tTheir favorite artist is REM, \n",
            "\tTheir favorite animal is the dog, \n",
            "\tAnd their favorie color is black\n",
            "\n",
            "Rory's last name is Hernandez.\n",
            "\tTheir favorite artist is Hall & Oates, \n",
            "\tTheir favorite animal is the raccoon, \n",
            "\tAnd their favorie color is orange\n",
            "\n",
            "Molly's last name is Garner.\n",
            "\tTheir favorite artist is Sufjan Stevens, \n",
            "\tTheir favorite animal is the goat, \n",
            "\tAnd their favorie color is yellow\n",
            "\n"
          ],
          "name": "stdout"
        }
      ]
    }
  ]
}