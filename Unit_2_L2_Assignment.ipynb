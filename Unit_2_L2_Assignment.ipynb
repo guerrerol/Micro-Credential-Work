{
  "nbformat": 4,
  "nbformat_minor": 0,
  "metadata": {
    "colab": {
      "name": "Unit 2 L2 Assignment.ipynb",
      "provenance": [],
      "authorship_tag": "ABX9TyP0bMQZU8Kib3L9lsPgKxPx",
      "include_colab_link": true
    },
    "kernelspec": {
      "name": "python3",
      "display_name": "Python 3"
    }
  },
  "cells": [
    {
      "cell_type": "markdown",
      "metadata": {
        "id": "view-in-github",
        "colab_type": "text"
      },
      "source": [
        "<a href=\"https://colab.research.google.com/github/guerrerol/Micro-Credential-Work/blob/main/Unit_2_L2_Assignment.ipynb\" target=\"_parent\"><img src=\"https://colab.research.google.com/assets/colab-badge.svg\" alt=\"Open In Colab\"/></a>"
      ]
    },
    {
      "cell_type": "code",
      "metadata": {
        "id": "yAd9bGMolBUL"
      },
      "source": [
        "# 1\r\n",
        "# Python is a high-level coding language; some of its usefullness derives\r\n",
        "# from it being a scripting language, meaning code doesn't have to be compiled\r\n",
        "# before running. Due to being a high-level language, it's also more readable\r\n",
        "# than some more esoteric languages, meaning the code is easier to interpret for\r\n",
        "# people upon reading"
      ],
      "execution_count": 2,
      "outputs": []
    },
    {
      "cell_type": "code",
      "metadata": {
        "id": "ylAR59T4mjU1"
      },
      "source": [
        "# 2\r\n",
        "# a. 1_message is not a viable name b/c variable names cannot start with a number\r\n",
        "# b. Greeting_message is a viable name\r\n",
        "# c. Message_1 is a viable name\r\n",
        "# d. First name is not a viable name bc a variable name cannot contain spaces\r\n",
        "# e. Full_name is a viable name"
      ],
      "execution_count": null,
      "outputs": []
    },
    {
      "cell_type": "code",
      "metadata": {
        "id": "FbtHACh3pPwf"
      },
      "source": [
        "# 3\r\n",
        "text = \"hello there!\""
      ],
      "execution_count": null,
      "outputs": []
    },
    {
      "cell_type": "code",
      "metadata": {
        "colab": {
          "base_uri": "https://localhost:8080/"
        },
        "id": "oflQQ2pEpjPK",
        "outputId": "d1a722ba-dd32-45de-f388-06c55f0c85ea"
      },
      "source": [
        "# 4\r\n",
        "first = \"Luz\"\r\n",
        "last = \"Guerrero\"\r\n",
        "ext = \"@gmail.com\"\r\n",
        "print( first + last + ext )"
      ],
      "execution_count": 3,
      "outputs": [
        {
          "output_type": "stream",
          "text": [
            "LuzGuerrero@gmail.com\n"
          ],
          "name": "stdout"
        }
      ]
    },
    {
      "cell_type": "code",
      "metadata": {
        "colab": {
          "base_uri": "https://localhost:8080/"
        },
        "id": "115Avnp-qEqB",
        "outputId": "4a278a6e-8df3-4d3b-84ee-469b96348873"
      },
      "source": [
        "# 5\r\n",
        "name = \"Danny Elfman\"\r\n",
        "print(name.upper())\r\n",
        "print(name.lower())"
      ],
      "execution_count": 4,
      "outputs": [
        {
          "output_type": "stream",
          "text": [
            "DANNY ELFMAN\n",
            "danny elfman\n"
          ],
          "name": "stdout"
        }
      ]
    },
    {
      "cell_type": "code",
      "metadata": {
        "colab": {
          "base_uri": "https://localhost:8080/"
        },
        "id": "0QfrbkzHqoAf",
        "outputId": "bd952d1b-071e-4126-b536-c1069a3c335c"
      },
      "source": [
        "date = 15\r\n",
        "print(\"Hey, do you want to hang out on the \" + str(date) + \"th of this month? \")"
      ],
      "execution_count": 5,
      "outputs": [
        {
          "output_type": "stream",
          "text": [
            "Hey, do you want to hang out on the 15th of the month? \n"
          ],
          "name": "stdout"
        }
      ]
    }
  ]
}