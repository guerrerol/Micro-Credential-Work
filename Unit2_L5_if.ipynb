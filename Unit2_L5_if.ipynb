{
  "nbformat": 4,
  "nbformat_minor": 0,
  "metadata": {
    "colab": {
      "name": "Unit2 L5 if.ipynb",
      "provenance": [],
      "authorship_tag": "ABX9TyNjDPdh/PLGrEcS1NyA7SBv",
      "include_colab_link": true
    },
    "kernelspec": {
      "name": "python3",
      "display_name": "Python 3"
    }
  },
  "cells": [
    {
      "cell_type": "markdown",
      "metadata": {
        "id": "view-in-github",
        "colab_type": "text"
      },
      "source": [
        "<a href=\"https://colab.research.google.com/github/guerrerol/Micro-Credential-Work/blob/main/Unit2_L5_if.ipynb\" target=\"_parent\"><img src=\"https://colab.research.google.com/assets/colab-badge.svg\" alt=\"Open In Colab\"/></a>"
      ]
    },
    {
      "cell_type": "markdown",
      "metadata": {
        "id": "j7o9gRGLeC1O"
      },
      "source": [
        "1) Make a list of 5 or more usernames, including an admin account. Imagine you are writing code\r\n",
        "that will welcome people to your application on login. Loop through the list and print your\r\n",
        "greeting.\r\n",
        "\r\n",
        "a. If the admin account logs in, give them a special greeting. They’re the admin, after all!\r\n",
        "\r\n",
        "b. Other users can get the generic greeting"
      ]
    },
    {
      "cell_type": "code",
      "metadata": {
        "colab": {
          "base_uri": "https://localhost:8080/"
        },
        "id": "nInG1gFTdlFI",
        "outputId": "36def32f-5260-4b5d-b13e-e122d1440cf5"
      },
      "source": [
        "users = ['Luz','Frank','Connor','Laisa','Luna','Rory','Faune']\r\n",
        "admin = 'Laisa'\r\n",
        "for user in users:\r\n",
        "  if user == 'Laisa':\r\n",
        "    print(\"Good morning \" + user + \", would you like to view system settings? \")\r\n",
        "  else:\r\n",
        "    print(\"Good morning \" + user )\r\n",
        "\r\n"
      ],
      "execution_count": 2,
      "outputs": [
        {
          "output_type": "stream",
          "text": [
            "Good morning Luz\n",
            "Good morning Frank\n",
            "Good morning Connor\n",
            "Good morning Laisa, would you like to view system settings? \n",
            "Good morning Luna\n",
            "Good morning Rory\n",
            "Good morning Faune\n"
          ],
          "name": "stdout"
        }
      ]
    },
    {
      "cell_type": "code",
      "metadata": {
        "colab": {
          "base_uri": "https://localhost:8080/"
        },
        "id": "NaqoGnjSiQz8",
        "outputId": "ef4f0b2b-6875-4e24-d62b-176554c76484"
      },
      "source": [
        "# using dictionary, remember dictionaries use {}, lists use []\r\n",
        "users = {'Luz': 'user','Frank': 'user','Connor': 'user','Laisa': 'admin','Luna': 'user','Rory': 'user','Faune': 'user'}\r\n",
        "for user in users.keys():\r\n",
        "  if users[user] == 'admin': # alternatively, if user == laisa\r\n",
        "     print(\"Good morning \" + user + \", would you like to view system settings? \")\r\n",
        "  else:\r\n",
        "    print(\"Good morning \" + user )\r\n",
        "\r\n"
      ],
      "execution_count": 8,
      "outputs": [
        {
          "output_type": "stream",
          "text": [
            "Good morning Luz\n",
            "Good morning Frank\n",
            "Good morning Connor\n",
            "Good morning Laisa, would you like to view system settings? \n",
            "Good morning Luna\n",
            "Good morning Rory\n",
            "Good morning Faune\n"
          ],
          "name": "stdout"
        }
      ]
    },
    {
      "cell_type": "markdown",
      "metadata": {
        "id": "dyGQcPQTfZkG"
      },
      "source": [
        "2) Store numbers 1-10 in a list\r\n",
        "\r\n",
        "a. Loop through the list\r\n",
        "\r\n",
        "b. Use an if-elif-else chain inside your loop to print the ordinal ending for each number –\r\n",
        "for example – 1 st , 2 nd , 3 rd … etc."
      ]
    },
    {
      "cell_type": "code",
      "metadata": {
        "colab": {
          "base_uri": "https://localhost:8080/"
        },
        "id": "RvpLQmaXfgme",
        "outputId": "e3c3d569-c665-4d33-8d4a-8a1db9455c1b"
      },
      "source": [
        "nums = [ 1, 2, 3, 4, 5, 6, 7, 8, 9, 10 ]\r\n",
        "for num in nums:\r\n",
        "  if (num == 1 ):\r\n",
        "    print(str(num) + 'st')\r\n",
        "  elif ( num == 2 ):\r\n",
        "    print(str(num) + 'nd')\r\n",
        "  elif ( num == 3 ):\r\n",
        "    print(str(num) + 'rd')\r\n",
        "  else:\r\n",
        "    print(str(num) + 'th')"
      ],
      "execution_count": 5,
      "outputs": [
        {
          "output_type": "stream",
          "text": [
            "1st\n",
            "2nd\n",
            "3rd\n",
            "4th\n",
            "5th\n",
            "6th\n",
            "7th\n",
            "8th\n",
            "9th\n",
            "10th\n"
          ],
          "name": "stdout"
        }
      ]
    }
  ]
}