{
  "nbformat": 4,
  "nbformat_minor": 0,
  "metadata": {
    "colab": {
      "name": "Unit 2 L3 Assignment.ipynb",
      "provenance": [],
      "authorship_tag": "ABX9TyMOgrun5G/aEWRTGBTsPhba",
      "include_colab_link": true
    },
    "kernelspec": {
      "name": "python3",
      "display_name": "Python 3"
    }
  },
  "cells": [
    {
      "cell_type": "markdown",
      "metadata": {
        "id": "view-in-github",
        "colab_type": "text"
      },
      "source": [
        "<a href=\"https://colab.research.google.com/github/guerrerol/Micro-Credential-Work/blob/main/Unit_2_L3_Assignment.ipynb\" target=\"_parent\"><img src=\"https://colab.research.google.com/assets/colab-badge.svg\" alt=\"Open In Colab\"/></a>"
      ]
    },
    {
      "cell_type": "code",
      "metadata": {
        "id": "zp2w8a0Grbb_"
      },
      "source": [
        "# 1\r\n",
        "fav_shows = [\"Its Always Sunny\", \"Mr.Robot\", \"Monster\", \"Hannibal\", \"Twin Peaks\"]"
      ],
      "execution_count": null,
      "outputs": []
    },
    {
      "cell_type": "code",
      "metadata": {
        "colab": {
          "base_uri": "https://localhost:8080/"
        },
        "id": "EV7fRTQWtXwh",
        "outputId": "61754c7a-3b17-4a3a-ec7c-bacc328db380"
      },
      "source": [
        "# 2\r\n",
        "fav_shows = [\"Its Always Sunny\", \"Mr.Robot\", \"Monster\", \"Hannibal\", \"Twin Peaks\"]\r\n",
        "fav_shows.sort()\r\n",
        "print(fav_shows)\r\n"
      ],
      "execution_count": null,
      "outputs": [
        {
          "output_type": "stream",
          "text": [
            "['Hannibal', 'Its Always Sunny', 'Monster', 'Mr.Robot', 'Twin Peaks']\n"
          ],
          "name": "stdout"
        }
      ]
    },
    {
      "cell_type": "code",
      "metadata": {
        "colab": {
          "base_uri": "https://localhost:8080/"
        },
        "id": "_aJcbd_etkNf",
        "outputId": "2affbacc-b8e3-4446-b36c-603d8edb3fe4"
      },
      "source": [
        "# 3\r\n",
        "fav_shows = [\"Its Always Sunny\", \"Mr.Robot\", \"Monster\", \"Hannibal\", \"Twin Peaks\"]\r\n",
        "print(sorted(fav_shows))\r\n",
        "# sorted() and sort() both perform the same function, but sort() is called\r\n",
        "# on the list, while sorted() takes the list as a parameter\r\n"
      ],
      "execution_count": null,
      "outputs": [
        {
          "output_type": "stream",
          "text": [
            "['Hannibal', 'Its Always Sunny', 'Monster', 'Mr.Robot', 'Twin Peaks']\n"
          ],
          "name": "stdout"
        }
      ]
    },
    {
      "cell_type": "code",
      "metadata": {
        "colab": {
          "base_uri": "https://localhost:8080/"
        },
        "id": "DUMAvBiVuY5B",
        "outputId": "694bd3df-b359-48e2-a54f-83b7f1d61318"
      },
      "source": [
        "# 4\r\n",
        "fav_shows = [\"Its Always Sunny\", \"Mr.Robot\", \"Monster\", \"Hannibal\", \"Twin Peaks\"]\r\n",
        "print(fav_shows)\r\n"
      ],
      "execution_count": null,
      "outputs": [
        {
          "output_type": "stream",
          "text": [
            "['Its Always Sunny', 'Mr.Robot', 'Monster', 'Hannibal', 'Twin Peaks']\n"
          ],
          "name": "stdout"
        }
      ]
    },
    {
      "cell_type": "code",
      "metadata": {
        "colab": {
          "base_uri": "https://localhost:8080/"
        },
        "id": "rO1KrpLSushu",
        "outputId": "5de996e5-a971-4cc8-ab6c-76af4b9bc9ae"
      },
      "source": [
        "# 5\r\n",
        "fav_shows = [\"Its Always Sunny\", \"Mr.Robot\", \"Monster\", \"Hannibal\", \"Twin Peaks\"]\r\n",
        "print(sorted(fav_shows, reverse= True))"
      ],
      "execution_count": null,
      "outputs": [
        {
          "output_type": "stream",
          "text": [
            "['Twin Peaks', 'Mr.Robot', 'Monster', 'Its Always Sunny', 'Hannibal']\n"
          ],
          "name": "stdout"
        }
      ]
    },
    {
      "cell_type": "code",
      "metadata": {
        "colab": {
          "base_uri": "https://localhost:8080/"
        },
        "id": "S-LV-0ZOvgj1",
        "outputId": "de69f51b-265b-468d-f5b9-9d66f1fe30ad"
      },
      "source": [
        "# 6\r\n",
        "fav_shows = [\"Its Always Sunny\", \"Mr.Robot\", \"Monster\", \"Hannibal\", \"Twin Peaks\"]\r\n",
        "print(\"You have \" + str(len(fav_shows)) + \" favorite shows \")"
      ],
      "execution_count": null,
      "outputs": [
        {
          "output_type": "stream",
          "text": [
            "You have 5 favorite shows \n"
          ],
          "name": "stdout"
        }
      ]
    }
  ]
}